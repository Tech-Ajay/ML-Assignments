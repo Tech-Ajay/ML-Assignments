{
  "cells": [
    {
      "cell_type": "markdown",
      "metadata": {
        "id": "view-in-github",
        "colab_type": "text"
      },
      "source": [
        "<a href=\"https://colab.research.google.com/github/Tech-Ajay/ML-Assignments/blob/main/Etivity1_1_LinearAlgebra_23208341.ipynb\" target=\"_parent\"><img src=\"https://colab.research.google.com/assets/colab-badge.svg\" alt=\"Open In Colab\"/></a>"
      ]
    },
    {
      "cell_type": "markdown",
      "metadata": {
        "id": "rkD_9UNf4KwE"
      },
      "source": [
        "### Your details"
      ]
    },
    {
      "cell_type": "markdown",
      "metadata": {
        "id": "CIt6cbNM4KwG"
      },
      "source": [
        "Your Name: **Ajay Neelankatil**"
      ]
    },
    {
      "cell_type": "markdown",
      "metadata": {
        "id": "A42SlF_b4KwG"
      },
      "source": [
        "Your ID number: **23208341**"
      ]
    },
    {
      "cell_type": "markdown",
      "metadata": {
        "id": "0AqIjw5n4KwH"
      },
      "source": [
        "# Task 1"
      ]
    },
    {
      "cell_type": "markdown",
      "metadata": {
        "id": "tjq0ait34KwH"
      },
      "source": [
        "## Approach\n",
        "\n",
        "**Vector Operations:**\n",
        "\n",
        "**Scalar Multiplication:** For scalar multiplication, I used a list comprehension to multiply each element of the vector by the scalar.\n",
        "\n",
        "**Vector Addition and Subtraction:** Both addition and subtraction operations involve element-wise operations between two vectors. I used list comprehensions to iterate through corresponding elements of the input vectors and performed the addition or subtraction.\n",
        "\n",
        "**Dot Product:** To calculate the dot product of two vectors, I used a list comprehension to multiply corresponding elements of the vectors and then summed up the results.\n",
        "\n",
        "**Cross Product (3D Vectors):** For the cross product, I checked if the vectors are 3D (i.e., have a length of 3), and if so, I computed the cross product using the standard formula.\n"
      ]
    },
    {
      "cell_type": "markdown",
      "metadata": {
        "id": "yLs7I8PQ4KwH"
      },
      "source": [
        "## Manual Calculations\n",
        "\n",
        "Vector Operations:\n",
        "\n",
        "Scalar Multiplication:\n",
        "\n",
        "Vector: [2, 3, 4]\n",
        "Scalar: 2\n",
        "Expected Result: [4, 6, 8]\n",
        "\n",
        "Vector Addition:\n",
        "\n",
        "Vector A: [1, 2, 3]\n",
        "Vector B: [4, 5, 6]\n",
        "Expected Result: [5, 7, 9]\n",
        "\n",
        "Vector Subtraction:\n",
        "\n",
        "Vector A: [4, 5, 6]\n",
        "Vector B: [1, 2, 3]\n",
        "Expected Result: [3, 3, 3]\n",
        "\n",
        "Dot Product:\n",
        "\n",
        "Vector A: [1, 2, 3]\n",
        "Vector B: [4, 5, 6]\n",
        "Expected Result: 1 * 4 + 2 * 5 + 3 * 6 = 32\n",
        "\n",
        "Cross Product (3D Vectors):\n",
        "\n",
        "Vector A: [1, 0, 0]\n",
        "Vector B: [0, 1, 0]\n",
        "Expected Result: [0, 0, 1]"
      ]
    },
    {
      "cell_type": "markdown",
      "metadata": {
        "id": "C0IRUkOo4KwH"
      },
      "source": [
        "## Code"
      ]
    },
    {
      "cell_type": "code",
      "execution_count": 6,
      "metadata": {
        "colab": {
          "base_uri": "https://localhost:8080/"
        },
        "id": "IYMyQHSu4KwI",
        "outputId": "da112c80-2b21-43a7-81b9-6480a5cd802e"
      },
      "outputs": [
        {
          "output_type": "stream",
          "name": "stdout",
          "text": [
            "Scalar multiplication: [4, 6, 8]\n",
            "Vector addition: [5, 7, 9]\n",
            "Vector subtraction: [3, 3, 3]\n",
            "Dot product: 32\n",
            "Cross product: [0, 0, 1]\n"
          ]
        }
      ],
      "source": [
        "# Vector Operations\n",
        "\n",
        "def scalar_multiply(vector, scalar):\n",
        "    return [scalar * x for x in vector]\n",
        "\n",
        "def vector_addition(vector1, vector2):\n",
        "    if len(vector1) != len(vector2):\n",
        "        print(\"Error: Vectors must have the same size for addition.\")\n",
        "        return None\n",
        "    return [x + y for x, y in zip(vector1, vector2)]\n",
        "\n",
        "def vector_subtraction(vector1, vector2):\n",
        "    if len(vector1) != len(vector2):\n",
        "        print(\"Error: Vectors must have the same size for subtraction.\")\n",
        "        return None\n",
        "    return [x - y for x, y in zip(vector1, vector2)]\n",
        "\n",
        "def dot_product(vector1, vector2):\n",
        "    if len(vector1) != len(vector2):\n",
        "        print(\"Error: Vectors must have the same size for dot product.\")\n",
        "        return None\n",
        "    return sum(x * y for x, y in zip(vector1, vector2))\n",
        "\n",
        "def cross_product(vector1, vector2):\n",
        "    if len(vector1) != 3 or len(vector2) != 3:\n",
        "        print(\"Error: Cross product is defined for 3D-vectors only.\")\n",
        "        return None\n",
        "    x = vector1[1] * vector2[2] - vector1[2] * vector2[1]\n",
        "    y = vector1[2] * vector2[0] - vector1[0] * vector2[2]\n",
        "    z = vector1[0] * vector2[1] - vector1[1] * vector2[0]\n",
        "    return [x, y, z]\n",
        "\n",
        "# Test the functions\n",
        "vector_c = [2, 3, 4]\n",
        "vector_a = [1, 2, 3]\n",
        "vector_b = [4, 5, 6]\n",
        "\n",
        "print(\"Scalar multiplication:\", scalar_multiply(vector_c, 2))\n",
        "print(\"Vector addition:\", vector_addition(vector_a, vector_b))\n",
        "print(\"Vector subtraction:\", vector_subtraction(vector_b, vector_a))\n",
        "print(\"Dot product:\", dot_product(vector_a, vector_b))\n",
        "print(\"Cross product:\", cross_product([1, 0, 0], [0, 1, 0]))\n"
      ]
    },
    {
      "cell_type": "markdown",
      "source": [
        "## Approach\n",
        "\n",
        "**Matrix Operations:**\n",
        "\n",
        "**Matrix Size:** To find the size of a matrix, I returned a tuple containing the number of rows and columns.\n",
        "\n",
        "**Matrix Addition and Subtraction:** For matrix addition and subtraction, I checked if the matrices have the same size and then used nested list comprehensions to perform element-wise addition or subtraction.\n",
        "\n",
        "**Matrix-Vector Multiplication:** To multiply a matrix by a vector, I checked if the number of columns in the matrix matches the length of the vector. Then, I used nested list comprehensions to calculate the resulting vector.\n",
        "\n",
        "**Matrix Multiplication:** For matrix multiplication, I checked if the number of columns in the first matrix matches the number of rows in the second matrix. Then, I used nested loops to compute the elements of the resulting matrix.\n",
        "\n",
        "**Determinant and Inverse of 2x2 Matrix:** For the determinant and inverse of a 2x2 matrix, I first checked if the matrix is indeed 2x2. Then, I used the standard formulas to calculate these values, checking for non-invertibility in the case of the inverse.\n",
        "\n"
      ],
      "metadata": {
        "id": "WQlAReNY51_Y"
      }
    },
    {
      "cell_type": "markdown",
      "source": [
        "## Manual Calculations\n",
        "**Matrix Operations:**\n",
        "\n",
        "\n",
        "Matrix Addition:\n",
        "\n",
        "Matrix X: [[1, 2], [3, 4]]\n",
        "Matrix Y: [[5, 6], [7, 8]]\n",
        "Expected Result: [[6, 8], [10, 12]]\n",
        "\n",
        "Matrix Subtraction:\n",
        "\n",
        "Matrix X: [[1, 2], [3, 4]]\n",
        "Matrix Y: [[5, 6], [7, 8]]\n",
        "Expected Result: [[-4, -4], [-4, -4]]\n",
        "\n",
        "Matrix-Vector Multiplication:\n",
        "\n",
        "Matrix A: [[1, 2], [3, 4]]\n",
        "Vector V: [2, 1]\n",
        "Expected Result: [(12 + 21), (32 + 41)] = [4, 10]\n",
        "\n",
        "Matrix Multiplication:\n",
        "\n",
        "Matrix A: [[1, 2, 3], [4, 5, 6]]\n",
        "Matrix B: [[7, 8], [9, 10], [11, 12]]\n",
        "Expected Result: [[(17 + 29 + 311), (18 + 210 + 312)], [(47 + 59 + 611), (48 + 510 + 612)]] = [[58, 64], [139, 154]]\n",
        "\n",
        "Determinant of 2x2 Matrix:\n",
        "\n",
        "Matrix X: [[2, 3], [1, 4]]\n",
        "Expected Result: (24) - (31) = 8 - 3 = 5\n",
        "\n",
        "Inverse of 2x2 Matrix:\n",
        "\n",
        "Matrix X: [[2, 3], [1, 4]]\n",
        "Expected Result: The expected result can be calculated as follows:\n",
        "\n",
        "Calculate the determinant:\n",
        "2 * 4 - 3 * 1 = 8 - 3 = 5\n",
        "\n",
        "Calculate the inverse:\n",
        "(1/det) * [[4, -3], [-1, 2]] = (1/5) * [[4, -3], [-1, 2]] = [[4/5, -3/5], [-1/5, 2/5]]"
      ],
      "metadata": {
        "id": "9GQpBTya-cRz"
      }
    },
    {
      "cell_type": "code",
      "source": [
        "# Matrix Operations\n",
        "\n",
        "def matrix_size(matrix):\n",
        "    return (len(matrix), len(matrix[0]))\n",
        "\n",
        "def matrix_addition(matrix1, matrix2):\n",
        "    if matrix_size(matrix1) != matrix_size(matrix2):\n",
        "        print(\"Error: Matrices must have the same size for addition.\")\n",
        "        return None\n",
        "    return [[matrix1[i][j] + matrix2[i][j] for j in range(len(matrix1[0]))] for i in range(len(matrix1))]\n",
        "\n",
        "def matrix_subtraction(matrix1, matrix2):\n",
        "    if matrix_size(matrix1) != matrix_size(matrix2):\n",
        "        print(\"Error: Matrices must have the same size for subtraction.\")\n",
        "        return None\n",
        "    return [[matrix1[i][j] - matrix2[i][j] for j in range(len(matrix1[0]))] for i in range(len(matrix1))]\n",
        "\n",
        "def matrix_vector_multiply(matrix, vector):\n",
        "    m, n = matrix_size(matrix)\n",
        "    if n != len(vector):\n",
        "        print(\"Error: Matrix columns must match the vector size for multiplication.\")\n",
        "        return None\n",
        "    return [sum(matrix[i][j] * vector[j] for j in range(n)) for i in range(m)]\n",
        "\n",
        "def matrix_multiply(matrix1, matrix2):\n",
        "    m1, n1 = matrix_size(matrix1)\n",
        "    m2, n2 = matrix_size(matrix2)\n",
        "    if n1 != m2:\n",
        "        print(\"Error: Number of columns in matrix1 must match the number of rows in matrix2 for multiplication.\")\n",
        "        return None\n",
        "    result = [[0 for _ in range(n2)] for _ in range(m1)]\n",
        "    for i in range(m1):\n",
        "        for j in range(n2):\n",
        "            result[i][j] = sum(matrix1[i][k] * matrix2[k][j] for k in range(n1))\n",
        "    return result\n",
        "\n",
        "def determinant_2x2(matrix):\n",
        "    if matrix_size(matrix) != (2, 2):\n",
        "        print(\"Error: Determinant calculation is only defined for 2x2 matrices.\")\n",
        "        return None\n",
        "    return matrix[0][0] * matrix[1][1] - matrix[0][1] * matrix[1][0]\n",
        "\n",
        "def inverse_2x2(matrix):\n",
        "    if matrix_size(matrix) != (2, 2):\n",
        "        print(\"Error: Inverse calculation is only defined for 2x2 matrices.\")\n",
        "        return None\n",
        "    det = determinant_2x2(matrix)\n",
        "    if det == 0:\n",
        "        print(\"Error: Matrix is non-invertible.\")\n",
        "        return None\n",
        "    a, b, c, d = matrix[0][0], matrix[0][1], matrix[1][0], matrix[1][1]\n",
        "    inverse_det = 1 / det\n",
        "    return [[d * inverse_det, -b * inverse_det], [-c * inverse_det, a * inverse_det]]\n",
        "\n",
        "# Testing the functions\n",
        "firstMatrix = [[1, 2], [3, 4]]\n",
        "secondMatrix = [[5, 6], [7, 8]]\n",
        "\n",
        "print(\"Matrix size:\", matrix_size(firstMatrix))\n",
        "print(\"Matrix addition:\", matrix_addition(firstMatrix, secondMatrix))\n",
        "print(\"Matrix subtraction:\", matrix_subtraction(firstMatrix, secondMatrix))\n",
        "print(\"Matrix-vector multiplication:\", matrix_vector_multiply(firstMatrix, [1, 2]))\n",
        "print(\"Matrix multiplication:\", matrix_multiply(firstMatrix, secondMatrix))\n",
        "print(\"Determinant of 2x2 matrix:\", determinant_2x2(firstMatrix))\n",
        "print(\"Inverse of 2x2 matrix:\", inverse_2x2(firstMatrix))"
      ],
      "metadata": {
        "colab": {
          "base_uri": "https://localhost:8080/"
        },
        "id": "zFKwBgQZ6c3n",
        "outputId": "f872e8a6-89cc-496c-ba8b-b311c8604164"
      },
      "execution_count": 7,
      "outputs": [
        {
          "output_type": "stream",
          "name": "stdout",
          "text": [
            "Matrix size: (2, 2)\n",
            "Matrix addition: [[6, 8], [10, 12]]\n",
            "Matrix subtraction: [[-4, -4], [-4, -4]]\n",
            "Matrix-vector multiplication: [5, 11]\n",
            "Matrix multiplication: [[19, 22], [43, 50]]\n",
            "Determinant of 2x2 matrix: -2\n",
            "Inverse of 2x2 matrix: [[-2.0, 1.0], [1.5, -0.5]]\n"
          ]
        }
      ]
    },
    {
      "cell_type": "markdown",
      "metadata": {
        "id": "-EpVi0dj4KwJ"
      },
      "source": [
        "## Discussion\n",
        "\n",
        "Provide any discussion elements"
      ]
    },
    {
      "cell_type": "code",
      "execution_count": null,
      "metadata": {
        "id": "ZJC1MePz4KwJ"
      },
      "outputs": [],
      "source": []
    }
  ],
  "metadata": {
    "kernelspec": {
      "display_name": "Python 3 (ipykernel)",
      "language": "python",
      "name": "python3"
    },
    "language_info": {
      "codemirror_mode": {
        "name": "ipython",
        "version": 3
      },
      "file_extension": ".py",
      "mimetype": "text/x-python",
      "name": "python",
      "nbconvert_exporter": "python",
      "pygments_lexer": "ipython3",
      "version": "3.9.11"
    },
    "colab": {
      "provenance": [],
      "include_colab_link": true
    }
  },
  "nbformat": 4,
  "nbformat_minor": 0
}